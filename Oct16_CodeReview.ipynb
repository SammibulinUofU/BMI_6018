{
 "cells": [
  {
   "cell_type": "markdown",
   "metadata": {},
   "source": [
    "# Code Review: Complex Data Types\n",
    "**Question 1e - 1h**\n",
    "**October 16, 2023**\n",
    "\n",
    "1.a Create a list of integers no fewer than 10 items from 0 to 9.\n",
    "\n",
    ".b Add 3 to the 5th indexed element\n",
    "\n",
    ".c Coerce all elements in the list to floats using list comprehension\n",
    "\n",
    ".d Coerce the list to a set\n",
    "\n",
    "**.e Using a method, append int 10 to the set**\n",
    "\n",
    "**.f Using a method, pop an item from the set**\n",
    "\n",
    "**.g Using a length counting function, count the number of items in the set**\n",
    "\n",
    "**.h Check if the number of items in the set is the same as the**\n",
    "    **number of items in the list**"
   ]
  },
  {
   "cell_type": "code",
   "execution_count": null,
   "metadata": {},
   "outputs": [],
   "source": [
    "# A: Create a list of integers no fewer than 10 items from 0 to 9.\n",
    "one_a = list(range(0, 10))\n",
    "# B:  Add 3 to the 5th indexed \n",
    "one_b = one_a[:]\n",
    "one_b[5] = one_b[5] + 3\n",
    "# C: Coerce all elements in the list to floats using list comprehension\n",
    "one_c = [float(x) for x in one_b]\n",
    "# D: Coerce the list to a set\n",
    "one_d = set(one_c)"
   ]
  },
  {
   "cell_type": "markdown",
   "metadata": {},
   "source": [
    "### Python Methods\n",
    "\n",
    "*What is a method?*\n",
    "- a function that is associated to an object (OOP)"
   ]
  },
  {
   "cell_type": "markdown",
   "metadata": {},
   "source": [
    "# 1E: Using a method, append 10 to a set"
   ]
  },
  {
   "cell_type": "code",
   "execution_count": null,
   "metadata": {},
   "outputs": [],
   "source": [
    "\n",
    "print(type(one_d))\n",
    "print(f\"one_d: {one_d}\")\n",
    "one_e = one_d\n",
    "one_e.append(10)\n",
    "print(f\"one_e: {one_e}\")\n",
    "\n"
   ]
  },
  {
   "cell_type": "markdown",
   "metadata": {},
   "source": [
    "## Well what attributes does the object have?\n",
    "\n",
    "dir() will return all the attributes of a class\n",
    "- methods\n",
    "- attributes\n",
    "- special methods"
   ]
  },
  {
   "cell_type": "code",
   "execution_count": null,
   "metadata": {},
   "outputs": [],
   "source": [
    "print(dir(one_d))"
   ]
  },
  {
   "cell_type": "markdown",
   "metadata": {},
   "source": [
    "### Is append there? If not, what can I use?"
   ]
  },
  {
   "cell_type": "code",
   "execution_count": null,
   "metadata": {},
   "outputs": [],
   "source": [
    "print(f\"append: {'append' in dir(one_d)}\")\n",
    "print(f\"add: {'add' in dir(one_d)}\")"
   ]
  },
  {
   "cell_type": "markdown",
   "metadata": {},
   "source": [
    "# 1E: Using a method, append 10 to a set (Again)"
   ]
  },
  {
   "cell_type": "code",
   "execution_count": null,
   "metadata": {},
   "outputs": [],
   "source": [
    "\n",
    "one_e = one_d\n",
    "one_e.add(int(10))\n",
    "print(f\"one_e: {one_e}\")\n"
   ]
  },
  {
   "cell_type": "markdown",
   "metadata": {},
   "source": [
    "# 1F: Using a method, pop an item from the set"
   ]
  },
  {
   "cell_type": "code",
   "execution_count": null,
   "metadata": {},
   "outputs": [],
   "source": [
    "\n",
    "one_f = one_e.pop()\n",
    "print(f\"one_f: {one_f}\")"
   ]
  },
  {
   "cell_type": "markdown",
   "metadata": {},
   "source": [
    "# 1G: Using a length counting function, count the number of items in the set"
   ]
  },
  {
   "cell_type": "code",
   "execution_count": null,
   "metadata": {},
   "outputs": [],
   "source": [
    "\n",
    "one_g = len(one_e)\n",
    "print(f\"Set one_g length: {one_g}\")"
   ]
  },
  {
   "cell_type": "markdown",
   "metadata": {},
   "source": [
    "**The pop() method removes a random item from the set and returns it**"
   ]
  },
  {
   "cell_type": "markdown",
   "metadata": {},
   "source": [
    "# 1H: Check if the number of items in the set is the same as the number of items in the list"
   ]
  },
  {
   "cell_type": "code",
   "execution_count": null,
   "metadata": {},
   "outputs": [],
   "source": [
    " print(one_g == len(one_a))\n",
    "print(f\"Set length: {one_g}\")\n",
    "print(f\"list length: {len(one_a)}\")"
   ]
  }
 ],
 "metadata": {
  "kernelspec": {
   "display_name": "Python 3",
   "language": "python",
   "name": "python3"
  },
  "language_info": {
   "codemirror_mode": {
    "name": "ipython",
    "version": 3
   },
   "file_extension": ".py",
   "mimetype": "text/x-python",
   "name": "python",
   "nbconvert_exporter": "python",
   "pygments_lexer": "ipython3",
   "version": "3.11.6"
  }
 },
 "nbformat": 4,
 "nbformat_minor": 2
}
