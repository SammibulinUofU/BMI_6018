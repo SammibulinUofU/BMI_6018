{
 "cells": [
  {
   "cell_type": "code",
   "execution_count": 2,
   "metadata": {},
   "outputs": [],
   "source": [
    "# Import libraries\n",
    "import pandas as pd\n",
    "import matplotlib.pyplot as plt\n",
    "import numpy as np"
   ]
  },
  {
   "cell_type": "code",
   "execution_count": 43,
   "metadata": {},
   "outputs": [
    {
     "name": "stdout",
     "output_type": "stream",
     "text": [
      "(336776, 16)\n"
     ]
    },
    {
     "data": {
      "text/html": [
       "<div>\n",
       "<style scoped>\n",
       "    .dataframe tbody tr th:only-of-type {\n",
       "        vertical-align: middle;\n",
       "    }\n",
       "\n",
       "    .dataframe tbody tr th {\n",
       "        vertical-align: top;\n",
       "    }\n",
       "\n",
       "    .dataframe thead th {\n",
       "        text-align: right;\n",
       "    }\n",
       "</style>\n",
       "<table border=\"1\" class=\"dataframe\">\n",
       "  <thead>\n",
       "    <tr style=\"text-align: right;\">\n",
       "      <th></th>\n",
       "      <th>year</th>\n",
       "      <th>month</th>\n",
       "      <th>day</th>\n",
       "      <th>dep_time</th>\n",
       "      <th>dep_delay</th>\n",
       "      <th>arr_time</th>\n",
       "      <th>arr_delay</th>\n",
       "      <th>carrier</th>\n",
       "      <th>tailnum</th>\n",
       "      <th>flight</th>\n",
       "      <th>origin</th>\n",
       "      <th>dest</th>\n",
       "      <th>air_time</th>\n",
       "      <th>distance</th>\n",
       "      <th>hour</th>\n",
       "      <th>minute</th>\n",
       "    </tr>\n",
       "  </thead>\n",
       "  <tbody>\n",
       "    <tr>\n",
       "      <th>1</th>\n",
       "      <td>2013</td>\n",
       "      <td>1</td>\n",
       "      <td>1</td>\n",
       "      <td>517.0</td>\n",
       "      <td>2.0</td>\n",
       "      <td>830.0</td>\n",
       "      <td>11.0</td>\n",
       "      <td>UA</td>\n",
       "      <td>N14228</td>\n",
       "      <td>1545</td>\n",
       "      <td>EWR</td>\n",
       "      <td>IAH</td>\n",
       "      <td>227.0</td>\n",
       "      <td>1400</td>\n",
       "      <td>5.0</td>\n",
       "      <td>17.0</td>\n",
       "    </tr>\n",
       "    <tr>\n",
       "      <th>2</th>\n",
       "      <td>2013</td>\n",
       "      <td>1</td>\n",
       "      <td>1</td>\n",
       "      <td>533.0</td>\n",
       "      <td>4.0</td>\n",
       "      <td>850.0</td>\n",
       "      <td>20.0</td>\n",
       "      <td>UA</td>\n",
       "      <td>N24211</td>\n",
       "      <td>1714</td>\n",
       "      <td>LGA</td>\n",
       "      <td>IAH</td>\n",
       "      <td>227.0</td>\n",
       "      <td>1416</td>\n",
       "      <td>5.0</td>\n",
       "      <td>33.0</td>\n",
       "    </tr>\n",
       "    <tr>\n",
       "      <th>3</th>\n",
       "      <td>2013</td>\n",
       "      <td>1</td>\n",
       "      <td>1</td>\n",
       "      <td>542.0</td>\n",
       "      <td>2.0</td>\n",
       "      <td>923.0</td>\n",
       "      <td>33.0</td>\n",
       "      <td>AA</td>\n",
       "      <td>N619AA</td>\n",
       "      <td>1141</td>\n",
       "      <td>JFK</td>\n",
       "      <td>MIA</td>\n",
       "      <td>160.0</td>\n",
       "      <td>1089</td>\n",
       "      <td>5.0</td>\n",
       "      <td>42.0</td>\n",
       "    </tr>\n",
       "    <tr>\n",
       "      <th>4</th>\n",
       "      <td>2013</td>\n",
       "      <td>1</td>\n",
       "      <td>1</td>\n",
       "      <td>544.0</td>\n",
       "      <td>-1.0</td>\n",
       "      <td>1004.0</td>\n",
       "      <td>-18.0</td>\n",
       "      <td>B6</td>\n",
       "      <td>N804JB</td>\n",
       "      <td>725</td>\n",
       "      <td>JFK</td>\n",
       "      <td>BQN</td>\n",
       "      <td>183.0</td>\n",
       "      <td>1576</td>\n",
       "      <td>5.0</td>\n",
       "      <td>44.0</td>\n",
       "    </tr>\n",
       "    <tr>\n",
       "      <th>5</th>\n",
       "      <td>2013</td>\n",
       "      <td>1</td>\n",
       "      <td>1</td>\n",
       "      <td>554.0</td>\n",
       "      <td>-6.0</td>\n",
       "      <td>812.0</td>\n",
       "      <td>-25.0</td>\n",
       "      <td>DL</td>\n",
       "      <td>N668DN</td>\n",
       "      <td>461</td>\n",
       "      <td>LGA</td>\n",
       "      <td>ATL</td>\n",
       "      <td>116.0</td>\n",
       "      <td>762</td>\n",
       "      <td>5.0</td>\n",
       "      <td>54.0</td>\n",
       "    </tr>\n",
       "  </tbody>\n",
       "</table>\n",
       "</div>"
      ],
      "text/plain": [
       "   year  month  day  dep_time  dep_delay  arr_time  arr_delay carrier tailnum  \\\n",
       "1  2013      1    1     517.0        2.0     830.0       11.0      UA  N14228   \n",
       "2  2013      1    1     533.0        4.0     850.0       20.0      UA  N24211   \n",
       "3  2013      1    1     542.0        2.0     923.0       33.0      AA  N619AA   \n",
       "4  2013      1    1     544.0       -1.0    1004.0      -18.0      B6  N804JB   \n",
       "5  2013      1    1     554.0       -6.0     812.0      -25.0      DL  N668DN   \n",
       "\n",
       "   flight origin dest  air_time  distance  hour  minute  \n",
       "1    1545    EWR  IAH     227.0      1400   5.0    17.0  \n",
       "2    1714    LGA  IAH     227.0      1416   5.0    33.0  \n",
       "3    1141    JFK  MIA     160.0      1089   5.0    42.0  \n",
       "4     725    JFK  BQN     183.0      1576   5.0    44.0  \n",
       "5     461    LGA  ATL     116.0       762   5.0    54.0  "
      ]
     },
     "execution_count": 43,
     "metadata": {},
     "output_type": "execute_result"
    }
   ],
   "source": [
    "# Load in Data\n",
    "flights_data = pd.read_csv('flights.csv', index_col= 0 )\n",
    "weather_data_pd = pd.read_csv('weather.csv')\n",
    "weather_data_np = weather_data_pd.to_numpy()\n",
    "print(flights_data.shape)\n",
    "flights_data.head()"
   ]
  },
  {
   "cell_type": "code",
   "execution_count": 32,
   "metadata": {},
   "outputs": [
    {
     "name": "stdout",
     "output_type": "stream",
     "text": [
      "There were 2113 flights from JFK to SLC\n"
     ]
    }
   ],
   "source": [
    "#Question 1 How many flights were there from JFK to SLC? Int\n",
    "\n",
    "# Filtering the DF for origin == \"JFK\" and dest == \"SLC\" and taking the length of the resulting slice\n",
    "question_one = flights_data[(flights_data['origin'] == 'JFK') & (flights_data['dest'] == 'SLC')].shape[0]\n",
    "print(f\"There were {question_one} flights from JFK to SLC\")"
   ]
  },
  {
   "cell_type": "code",
   "execution_count": 33,
   "metadata": {},
   "outputs": [
    {
     "name": "stdout",
     "output_type": "stream",
     "text": [
      "There were 2 airlines that flew to SLC\n"
     ]
    }
   ],
   "source": [
    "# Question 2 How many airlines fly to SLC? Should be int\n",
    "\n",
    "# Filtering the flights data to destinations == SLC\n",
    "question_two = flights_data[flights_data[\"dest\"] == \"SLC\"]\n",
    "# Grabbing the unique carrier values and returning the length\n",
    "question_two = question_two['carrier'].unique().shape[0]\n",
    "print(f\"There were {question_two} airlines that flew to SLC\")"
   ]
  },
  {
   "cell_type": "code",
   "execution_count": 34,
   "metadata": {},
   "outputs": [
    {
     "name": "stdout",
     "output_type": "stream",
     "text": [
      "The average arrival delay for flights into RDU is 10.052380952380952 minutes\n"
     ]
    }
   ],
   "source": [
    "#Question 3 What is the average arrival delay for flights to RDU? float\n",
    "\n",
    "question_three = flights_data[flights_data['dest'] == \"RDU\"]\n",
    "question_three = question_three['arr_delay'].mean()\n",
    "print(f\"The average arrival delay for flights into RDU is {question_three} minutes\")"
   ]
  },
  {
   "cell_type": "code",
   "execution_count": 35,
   "metadata": {},
   "outputs": [
    {
     "name": "stdout",
     "output_type": "stream",
     "text": [
      "0.5332653581442773 percent of flights to Seattle come from LGA or JFK\n"
     ]
    }
   ],
   "source": [
    "#Question 4 What proportion of flights to SEA come from the two NYC airports (LGA and JFK)?  float\n",
    "\n",
    "question_four = flights_data[(flights_data['dest'] == \"SEA\") & ((flights_data['origin'] == \"LGA\") | (flights_data['origin'] == \"JFK\"))].shape[0]\n",
    "\n",
    "all_SEA = flights_data[flights_data['dest'] == \"SEA\"].shape[0]\n",
    "\n",
    "print(f\"{question_four / all_SEA} percent of flights to Seattle come from LGA or JFK\")"
   ]
  },
  {
   "cell_type": "code",
   "execution_count": 85,
   "metadata": {},
   "outputs": [
    {
     "name": "stdout",
     "output_type": "stream",
     "text": [
      "2013/3/8 has the largest average departure delay\n"
     ]
    },
    {
     "data": {
      "text/plain": [
       "dep_delay    83.536921\n",
       "date          2013/3/8\n",
       "Name: 2013/3/8, dtype: object"
      ]
     },
     "execution_count": 85,
     "metadata": {},
     "output_type": "execute_result"
    }
   ],
   "source": [
    "#Question 5 Which date has the largest average depature delay? Pd slice with date and float\n",
    "#please make date a column. Preferred format is 2013/1/1 (y/m/d)\n",
    "\n",
    "# Creation of a date column\n",
    "#flights_data['date']\n",
    "flight_dates = flights_data['year'].astype(str) + \"/\" + flights_data['month'].astype(str) + \"/\" + flights_data['day'].astype(str)\n",
    "flights_data['date'] = flight_dates\n",
    "\n",
    "# Grab date and departure column\n",
    "question_five = flights_data[[\"date\", \"dep_delay\"]].dropna()\n",
    "\n",
    "# Group flights by date column and calculate average departure delay\n",
    "question_five = question_five.groupby([\"date\"]).mean().sort_values(\"dep_delay\", ascending=False)\n",
    "question_five['date'] = question_five.index\n",
    "\n",
    "print(f\"{question_five.index[0]} has the largest average departure delay\")\n",
    "\n",
    "question_five.iloc[0, :]"
   ]
  },
  {
   "cell_type": "code",
   "execution_count": 86,
   "metadata": {},
   "outputs": [
    {
     "name": "stdout",
     "output_type": "stream",
     "text": [
      "2013/3/8 has the largest average arrival delay\n"
     ]
    },
    {
     "data": {
      "text/plain": [
       "arr_delay    85.862155\n",
       "Name: 2013/3/8, dtype: float64"
      ]
     },
     "execution_count": 86,
     "metadata": {},
     "output_type": "execute_result"
    }
   ],
   "source": [
    "#Question 6 Which date has the largest average arrival delay? pd slice with date and float\n",
    "# Create date column in year/month/day format\n",
    "flight_dates = flights_data['year'].astype(str) + \"/\" + flights_data['month'].astype(str) + \"/\" + flights_data['day'].astype(str)\n",
    "flights_data['date'] = flight_dates\n",
    "\n",
    "# grab date and arrival delay column\n",
    "question_six = flights_data[['date', 'arr_delay']].dropna()\n",
    "\n",
    "# calculate average arrival delay by date\n",
    "question_six = question_six.groupby(['date']).mean().sort_values(\"arr_delay\", ascending=False)\n",
    "\n",
    "print(f\"{question_six.index[0]} has the largest average arrival delay\")\n",
    "question_six.iloc[0, :]"
   ]
  },
  {
   "cell_type": "code",
   "execution_count": 106,
   "metadata": {},
   "outputs": [
    {
     "data": {
      "text/plain": [
       "tailnum       N666DN\n",
       "speed      11.723077\n",
       "Name: 216448, dtype: object"
      ]
     },
     "execution_count": 106,
     "metadata": {},
     "output_type": "execute_result"
    }
   ],
   "source": [
    "#Question 7 Which flight departing LGA or JFK in 2013 flew the fastest? pd slice with tailnumber and speed\n",
    "#speed = distance/airtime\n",
    "\n",
    "question_seven = flights_data[[\"tailnum\", \"distance\", \"air_time\"]].dropna()\n",
    "question_seven['speed'] = question_seven['distance'] / question_seven['air_time']\n",
    "question_seven = question_seven.sort_values(['speed'], ascending=False)\n",
    "\n",
    "question_seven.iloc[0, [0,3]]"
   ]
  },
  {
   "cell_type": "code",
   "execution_count": 127,
   "metadata": {},
   "outputs": [
    {
     "data": {
      "text/plain": [
       "Unnamed: 0    0\n",
       "origin        0\n",
       "year          0\n",
       "month         0\n",
       "day           0\n",
       "hour          0\n",
       "temp          0\n",
       "dewp          0\n",
       "humid         0\n",
       "wind_dir      0\n",
       "wind_speed    0\n",
       "wind_gust     0\n",
       "precip        0\n",
       "pressure      0\n",
       "visib         0\n",
       "dtype: int64"
      ]
     },
     "execution_count": 127,
     "metadata": {},
     "output_type": "execute_result"
    }
   ],
   "source": [
    "#Question 8 Replace all nans in the weather pd dataframe with 0s. Pd with no nan\n",
    "\n",
    "# Filling nan values with 0\n",
    "question_eight = weather_data_pd.fillna(0)\n",
    "\n",
    "question_eight.isna().sum()"
   ]
  },
  {
   "cell_type": "code",
   "execution_count": 148,
   "metadata": {},
   "outputs": [
    {
     "data": {
      "text/plain": [
       "671"
      ]
     },
     "execution_count": 148,
     "metadata": {},
     "output_type": "execute_result"
    }
   ],
   "source": [
    "#Use weather_data_np\n",
    "#Question 9 How many observations were made in Feburary? Int\n",
    "weather_data_np.shape\n",
    "# 4th column is the month\n",
    "# Sum the booleans for the month value == 2 == February\n",
    "(weather_data_np[:, 3] == 2).sum()\n"
   ]
  },
  {
   "cell_type": "code",
   "execution_count": 151,
   "metadata": {},
   "outputs": [
    {
     "data": {
      "text/plain": [
       "62.918152011922515"
      ]
     },
     "execution_count": 151,
     "metadata": {},
     "output_type": "execute_result"
    }
   ],
   "source": [
    "#Question 10 What was the mean for humidity in February? Float\n",
    "weather_data_pd.columns\n",
    "\n",
    "# Column 8 == humidity\n",
    "# Filter the entries based on month == February and take the mean of the humidity column\n",
    "weather_data_np[(weather_data_np[:, 3] == 2), 8].mean()"
   ]
  },
  {
   "cell_type": "code",
   "execution_count": 154,
   "metadata": {},
   "outputs": [
    {
     "data": {
      "text/plain": [
       "20.33690087674334"
      ]
     },
     "execution_count": 154,
     "metadata": {},
     "output_type": "execute_result"
    }
   ],
   "source": [
    "#Question 11 What was the std for humidity in February? Float\n",
    "\n",
    "# Filter np array to the humidity values for February\n",
    "humidity_data = weather_data_np[(weather_data_np[:, 3] == 2), 8]\n",
    "# Calculate the standard deviation based on the humidity values\n",
    "question_eleven = np.std(humidity_data)\n",
    "question_eleven"
   ]
  }
 ],
 "metadata": {
  "kernelspec": {
   "display_name": "data",
   "language": "python",
   "name": "python3"
  },
  "language_info": {
   "codemirror_mode": {
    "name": "ipython",
    "version": 3
   },
   "file_extension": ".py",
   "mimetype": "text/x-python",
   "name": "python",
   "nbconvert_exporter": "python",
   "pygments_lexer": "ipython3",
   "version": "3.8.13"
  }
 },
 "nbformat": 4,
 "nbformat_minor": 2
}
