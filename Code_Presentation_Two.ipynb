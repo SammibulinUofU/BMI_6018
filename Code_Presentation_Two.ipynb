{
 "cells": [
  {
   "cell_type": "markdown",
   "metadata": {},
   "source": [
    "### Code Review Presentation 2\n",
    "11/13/2023\n",
    "\n",
    "*Samuel Coleman*\n",
    "\n",
    "**Debugging Quiz Question 1**\n",
    "\n",
    "**Object Oriented Quiz Question 2**"
   ]
  },
  {
   "cell_type": "markdown",
   "metadata": {},
   "source": [
    "### Debugging Quiz Question 1###\n",
    "\n",
    "The python documentation gives a more comprehensive description of the hierarchy of errors and exceptions. Using this resource, in the section below briefly describe and give examples of (without plagiarizing source material):\n",
    "\n",
    "Syntax Errors\n",
    "Exceptions\n",
    "User-defined exceptions"
   ]
  },
  {
   "cell_type": "code",
   "execution_count": 2,
   "metadata": {},
   "outputs": [
    {
     "ename": "SyntaxError",
     "evalue": "expected ':' (4105822358.py, line 4)",
     "output_type": "error",
     "traceback": [
      "\u001b[1;36m  Cell \u001b[1;32mIn[2], line 4\u001b[1;36m\u001b[0m\n\u001b[1;33m    for value in values\u001b[0m\n\u001b[1;37m                       ^\u001b[0m\n\u001b[1;31mSyntaxError\u001b[0m\u001b[1;31m:\u001b[0m expected ':'\n"
     ]
    }
   ],
   "source": [
    "# Syntax Error\n",
    "\n",
    "values = range(0,5)\n",
    "for value in values\n",
    "    print(value)\n",
    "    \n",
    "# Need a colon after 'values'"
   ]
  },
  {
   "cell_type": "code",
   "execution_count": 3,
   "metadata": {},
   "outputs": [
    {
     "ename": "NameError",
     "evalue": "name 'undeclared_value' is not defined",
     "output_type": "error",
     "traceback": [
      "\u001b[1;31m---------------------------------------------------------------------------\u001b[0m",
      "\u001b[1;31mNameError\u001b[0m                                 Traceback (most recent call last)",
      "\u001b[1;32mc:\\Users\\S-Col\\Documents\\Github\\BMI_6018\\Code_Presentation_Two.ipynb Cell 4\u001b[0m line \u001b[0;36m6\n\u001b[0;32m      <a href='vscode-notebook-cell:/c%3A/Users/S-Col/Documents/Github/BMI_6018/Code_Presentation_Two.ipynb#W4sZmlsZQ%3D%3D?line=0'>1</a>\u001b[0m \u001b[39m# Exception\u001b[39;00m\n\u001b[0;32m      <a href='vscode-notebook-cell:/c%3A/Users/S-Col/Documents/Github/BMI_6018/Code_Presentation_Two.ipynb#W4sZmlsZQ%3D%3D?line=1'>2</a>\u001b[0m \u001b[39m#An exception is an error that is detected during runtime of the code. \u001b[39;00m\n\u001b[0;32m      <a href='vscode-notebook-cell:/c%3A/Users/S-Col/Documents/Github/BMI_6018/Code_Presentation_Two.ipynb#W4sZmlsZQ%3D%3D?line=2'>3</a>\u001b[0m \u001b[39m# There are multiple flavors of exceptions that help to describe the error that caused them.\u001b[39;00m\n\u001b[0;32m      <a href='vscode-notebook-cell:/c%3A/Users/S-Col/Documents/Github/BMI_6018/Code_Presentation_Two.ipynb#W4sZmlsZQ%3D%3D?line=3'>4</a>\u001b[0m \u001b[39m# Some examples of common exceptions in python include a TypeError and a NameError.\u001b[39;00m\n\u001b[1;32m----> <a href='vscode-notebook-cell:/c%3A/Users/S-Col/Documents/Github/BMI_6018/Code_Presentation_Two.ipynb#W4sZmlsZQ%3D%3D?line=5'>6</a>\u001b[0m \u001b[39mprint\u001b[39m(undeclared_value)\n",
      "\u001b[1;31mNameError\u001b[0m: name 'undeclared_value' is not defined"
     ]
    }
   ],
   "source": [
    "# Exception\n",
    "#An exception is an error that is detected during runtime of the code. \n",
    "# There are multiple flavors of exceptions that help to describe the error that caused them.\n",
    "# Some examples of common exceptions in python include a TypeError and a NameError.\n",
    "\n",
    "print(undeclared_value)"
   ]
  },
  {
   "cell_type": "code",
   "execution_count": 15,
   "metadata": {},
   "outputs": [
    {
     "ename": "DrivingAgeError",
     "evalue": "The legal age is 16. You are not old enough to drive.",
     "output_type": "error",
     "traceback": [
      "\u001b[1;31m---------------------------------------------------------------------------\u001b[0m",
      "\u001b[1;31mDrivingAgeError\u001b[0m                           Traceback (most recent call last)",
      "\u001b[1;32mc:\\Users\\S-Col\\Documents\\Github\\BMI_6018\\Code_Presentation_Two.ipynb Cell 5\u001b[0m line \u001b[0;36m1\n\u001b[0;32m     <a href='vscode-notebook-cell:/c%3A/Users/S-Col/Documents/Github/BMI_6018/Code_Presentation_Two.ipynb#W5sZmlsZQ%3D%3D?line=10'>11</a>\u001b[0m     \u001b[39melse\u001b[39;00m:\n\u001b[0;32m     <a href='vscode-notebook-cell:/c%3A/Users/S-Col/Documents/Github/BMI_6018/Code_Presentation_Two.ipynb#W5sZmlsZQ%3D%3D?line=11'>12</a>\u001b[0m         \u001b[39mprint\u001b[39m(\u001b[39m\"\u001b[39m\u001b[39mYou are old enough to drive!\u001b[39m\u001b[39m\"\u001b[39m)\n\u001b[1;32m---> <a href='vscode-notebook-cell:/c%3A/Users/S-Col/Documents/Github/BMI_6018/Code_Presentation_Two.ipynb#W5sZmlsZQ%3D%3D?line=13'>14</a>\u001b[0m check_age(\u001b[39m15\u001b[39;49m)\n",
      "\u001b[1;32mc:\\Users\\S-Col\\Documents\\Github\\BMI_6018\\Code_Presentation_Two.ipynb Cell 5\u001b[0m line \u001b[0;36m1\n\u001b[0;32m      <a href='vscode-notebook-cell:/c%3A/Users/S-Col/Documents/Github/BMI_6018/Code_Presentation_Two.ipynb#W5sZmlsZQ%3D%3D?line=7'>8</a>\u001b[0m \u001b[39mdef\u001b[39;00m \u001b[39mcheck_age\u001b[39m(age):\n\u001b[0;32m      <a href='vscode-notebook-cell:/c%3A/Users/S-Col/Documents/Github/BMI_6018/Code_Presentation_Two.ipynb#W5sZmlsZQ%3D%3D?line=8'>9</a>\u001b[0m     \u001b[39mif\u001b[39;00m age \u001b[39m<\u001b[39m \u001b[39m16\u001b[39m:\n\u001b[1;32m---> <a href='vscode-notebook-cell:/c%3A/Users/S-Col/Documents/Github/BMI_6018/Code_Presentation_Two.ipynb#W5sZmlsZQ%3D%3D?line=9'>10</a>\u001b[0m         \u001b[39mraise\u001b[39;00m DrivingAgeError(\u001b[39m\"\u001b[39m\u001b[39mThe legal age is 16. You are not old enough to drive.\u001b[39m\u001b[39m\"\u001b[39m)\n\u001b[0;32m     <a href='vscode-notebook-cell:/c%3A/Users/S-Col/Documents/Github/BMI_6018/Code_Presentation_Two.ipynb#W5sZmlsZQ%3D%3D?line=10'>11</a>\u001b[0m     \u001b[39melse\u001b[39;00m:\n\u001b[0;32m     <a href='vscode-notebook-cell:/c%3A/Users/S-Col/Documents/Github/BMI_6018/Code_Presentation_Two.ipynb#W5sZmlsZQ%3D%3D?line=11'>12</a>\u001b[0m         \u001b[39mprint\u001b[39m(\u001b[39m\"\u001b[39m\u001b[39mYou are old enough to drive!\u001b[39m\u001b[39m\"\u001b[39m)\n",
      "\u001b[1;31mDrivingAgeError\u001b[0m: The legal age is 16. You are not old enough to drive."
     ]
    }
   ],
   "source": [
    "# User Defined Exception\n",
    "\n",
    "class DrivingAgeError(Exception):\n",
    "    # Raised if the person is too young to drive\n",
    "    pass\n",
    "\n",
    "\n",
    "def check_age(age):\n",
    "    if age < 16:\n",
    "        raise DrivingAgeError(\"The legal age is 16. You are not old enough to drive.\")\n",
    "    else:\n",
    "        print(\"You are old enough to drive!\")\n",
    "        \n",
    "check_age(15)"
   ]
  },
  {
   "cell_type": "code",
   "execution_count": 21,
   "metadata": {},
   "outputs": [
    {
     "name": "stdout",
     "output_type": "stream",
     "text": [
      "A White Toyota Camry\n",
      "<class '__main__.Car'>\n"
     ]
    }
   ],
   "source": [
    "# Object Oriented Programming\n",
    "\n",
    "# __init__ function\n",
    "\n",
    "class Car:\n",
    "    def __init__(self, color, manufacturer, model):\n",
    "        self.color = color\n",
    "        self.manufacturer = manufacturer\n",
    "        self.model = model\n",
    "    \n",
    "    def about(self):\n",
    "        print(f\"A {self.color} {self.manufacturer} {self.model}\")\n",
    "        \n",
    "\n",
    "a_car = Car(color = \"White\", manufacturer = \"Toyota\", model = \"Camry\")\n",
    "\n",
    "a_car.about()\n",
    "\n",
    "print(type(a_car))"
   ]
  }
 ],
 "metadata": {
  "kernelspec": {
   "display_name": "Python 3",
   "language": "python",
   "name": "python3"
  },
  "language_info": {
   "codemirror_mode": {
    "name": "ipython",
    "version": 3
   },
   "file_extension": ".py",
   "mimetype": "text/x-python",
   "name": "python",
   "nbconvert_exporter": "python",
   "pygments_lexer": "ipython3",
   "version": "3.10.11"
  }
 },
 "nbformat": 4,
 "nbformat_minor": 2
}
