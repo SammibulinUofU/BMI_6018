{
 "cells": [
  {
   "cell_type": "markdown",
   "metadata": {},
   "source": [
    "### Code for the Simple Data Types Assignment\n",
    "\n",
    "Provide a link with code for the following questions:  Question 1 (Booleans),  Question 2 (Booleans 2),  Question 5 (Strings), Question 6 (Strings 2),  Question 9 (Operators 2), and Question 10 (String 3)"
   ]
  },
  {
   "cell_type": "code",
   "execution_count": 1,
   "metadata": {},
   "outputs": [
    {
     "name": "stdout",
     "output_type": "stream",
     "text": [
      "2\n"
     ]
    }
   ],
   "source": [
    "# Question 1: \n",
    "\"\"\"\n",
    "boolean True + boolean True - boolean False = ?\n",
    "\"\"\"\n",
    "answer = True + True - False\n",
    "print(answer)"
   ]
  },
  {
   "cell_type": "code",
   "execution_count": 3,
   "metadata": {},
   "outputs": [
    {
     "name": "stdout",
     "output_type": "stream",
     "text": [
      "1\n"
     ]
    }
   ],
   "source": [
    "# Question 2:\n",
    "\"\"\"\n",
    "logical tracker = True\n",
    "\n",
    "logical tracker = logical tracker & logical tracker\n",
    "\n",
    "logical tracker = logical tracker | (logical tracker - logical tracker)\n",
    "\n",
    "logical tracker  = ?\n",
    "\"\"\"\n",
    "\n",
    "value = True\n",
    "\n",
    "value = value & value\n",
    "\n",
    "value = value | (value - value)\n",
    "\n",
    "print(value)\n"
   ]
  },
  {
   "cell_type": "code",
   "execution_count": 4,
   "metadata": {},
   "outputs": [
    {
     "name": "stdout",
     "output_type": "stream",
     "text": [
      "C\n"
     ]
    }
   ],
   "source": [
    "# Question 5: \n",
    "\"\"\"\n",
    "string = \"E.Coli\"\n",
    "string[2] = ?\n",
    "\"\"\"\n",
    "\n",
    "string = \"E.Coli\"\n",
    "print(string[2])"
   ]
  },
  {
   "cell_type": "code",
   "execution_count": 7,
   "metadata": {},
   "outputs": [
    {
     "name": "stdout",
     "output_type": "stream",
     "text": [
      "I love python\n"
     ]
    }
   ],
   "source": [
    "# Question 6:\n",
    "\"\"\"\n",
    "Oh no! My string has a typo!\n",
    "\n",
    "string = \"I Bove python\"\n",
    "\n",
    "No worries though. I'll just fix that.\n",
    "\n",
    "string[2]=\"L\"\n",
    "\"\"\"\n",
    "\n",
    "# This will not work. Strings are immutable\n",
    "\n",
    "string = \"I Bove python\"\n",
    "\n",
    "#string[2] = \"L\"\n",
    "\n",
    "# Instead use a method to replace the character\n",
    "\n",
    "string = string.replace(\"B\", \"l\")\n",
    "\n",
    "print(string)\n",
    "\n",
    "\n"
   ]
  },
  {
   "cell_type": "code",
   "execution_count": 8,
   "metadata": {},
   "outputs": [
    {
     "name": "stdout",
     "output_type": "stream",
     "text": [
      "<class 'int'>\n"
     ]
    }
   ],
   "source": [
    "# Question 7:\n",
    "\"\"\" \n",
    "Jack has been prescribed 5 medications, write a \n",
    "variable named \"Medication\", and store in it the \n",
    "number of medications he has. Print the type of the \n",
    "variable ''Medication\".\n",
    "\"\"\"\n",
    "\n",
    "# Number of medications for Jack\n",
    "Medcation = 5\n",
    "\n",
    "# Type of var Medication\n",
    "print(type(Medcation)) # int\n"
   ]
  },
  {
   "cell_type": "code",
   "execution_count": 10,
   "metadata": {},
   "outputs": [
    {
     "name": "stdout",
     "output_type": "stream",
     "text": [
      "24.034609838166958\n"
     ]
    }
   ],
   "source": [
    "# Question 8:\n",
    "\"\"\" \n",
    "Susan has a weight of 60 kilograms and a height of 1.58 meters.\n",
    "Write Code to Calculate and Print Susan’s Body Mass Index as float. \n",
    "Note: Body Mass Index is a person’s weight in kilograms divided by \n",
    "the square of height in meters.\n",
    "\"\"\"\n",
    "\n",
    "weight = 60\n",
    "height = 1.58\n",
    "\n",
    "BMI = weight / (height ** 2)\n",
    "\n",
    "print(BMI)\n"
   ]
  },
  {
   "cell_type": "code",
   "execution_count": 11,
   "metadata": {},
   "outputs": [
    {
     "name": "stdout",
     "output_type": "stream",
     "text": [
      "3\n",
      "string concatenation\n"
     ]
    }
   ],
   "source": [
    "# Question 9:\n",
    "\"\"\" \n",
    "Explain how the \"+\", addition operation works differently for integers and strings.\n",
    "\"\"\"\n",
    "\n",
    "# For integers, the \"+\" operator acts as a mathematical operator and adds the integers together.\n",
    "integerExample = 1 + 2\n",
    "\n",
    "# For strings, the \"+\" operator will combine or concatenate the strings together.\n",
    "stringExample = \"string \" + \"concatenation\"\n",
    "\n",
    "print(integerExample)\n",
    "print(stringExample)"
   ]
  },
  {
   "cell_type": "code",
   "execution_count": 12,
   "metadata": {},
   "outputs": [
    {
     "name": "stdout",
     "output_type": "stream",
     "text": [
      "73\n"
     ]
    }
   ],
   "source": [
    "# Question 10:\n",
    "\"\"\" \n",
    "Type the output if the strings '7' and '3' are added.\n",
    "\"\"\"\n",
    "\n",
    "output = '7' + '3'\n",
    "# output will be '73'\n",
    "\n",
    "print(output)"
   ]
  }
 ],
 "metadata": {
  "kernelspec": {
   "display_name": "Python 3",
   "language": "python",
   "name": "python3"
  },
  "language_info": {
   "codemirror_mode": {
    "name": "ipython",
    "version": 3
   },
   "file_extension": ".py",
   "mimetype": "text/x-python",
   "name": "python",
   "nbconvert_exporter": "python",
   "pygments_lexer": "ipython3",
   "version": "3.11.4"
  },
  "orig_nbformat": 4
 },
 "nbformat": 4,
 "nbformat_minor": 2
}
