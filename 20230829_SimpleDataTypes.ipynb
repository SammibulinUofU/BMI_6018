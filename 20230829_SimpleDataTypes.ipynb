{
 "cells": [
  {
   "cell_type": "markdown",
   "metadata": {},
   "source": [
    "### Code for the Simple Data Types Assignment\n",
    "\n",
    "Provide a link with code for the following questions:  Question 1 (Booleans),  Question 2 (Booleans 2),  Question 5 (Strings), Question 6 (Strings 2),  Question 9 (Operators 2), and Question 10 (String 3)"
   ]
  },
  {
   "cell_type": "code",
   "execution_count": 1,
   "metadata": {},
   "outputs": [
    {
     "name": "stdout",
     "output_type": "stream",
     "text": [
      "2\n"
     ]
    }
   ],
   "source": [
    "# Question 1: boolean True + boolean True - boolean False = \n",
    "\n",
    "answer = True + True - False\n",
    "print(answer)"
   ]
  },
  {
   "cell_type": "code",
   "execution_count": 3,
   "metadata": {},
   "outputs": [
    {
     "name": "stdout",
     "output_type": "stream",
     "text": [
      "1\n"
     ]
    }
   ],
   "source": [
    "# Question 2:\n",
    "\"\"\"\n",
    "logical tracker = True\n",
    "\n",
    "logical tracker = logical tracker & logical tracker\n",
    "\n",
    "logical tracker = logical tracker | (logical tracker - logical tracker)\n",
    "\n",
    "logical tracker  = ?\n",
    "\"\"\"\n",
    "\n",
    "value = True\n",
    "\n",
    "value = value & value\n",
    "\n",
    "value = value | (value - value)\n",
    "\n",
    "print(value)\n"
   ]
  },
  {
   "cell_type": "code",
   "execution_count": 4,
   "metadata": {},
   "outputs": [
    {
     "name": "stdout",
     "output_type": "stream",
     "text": [
      "C\n"
     ]
    }
   ],
   "source": [
    "# Question 5: \n",
    "\"\"\"\n",
    "string = \"E.Coli\"\n",
    "string[2] = ?\n",
    "\"\"\"\n",
    "\n",
    "string = \"E.Coli\"\n",
    "print(string[2])"
   ]
  },
  {
   "cell_type": "code",
   "execution_count": 6,
   "metadata": {},
   "outputs": [
    {
     "name": "stdout",
     "output_type": "stream",
     "text": [
      "I Love python\n"
     ]
    }
   ],
   "source": [
    "# Question 6:\n",
    "\"\"\"\n",
    "Oh no! My string has a typo!\n",
    "\n",
    "string = \"I Bove python\"\n",
    "\n",
    "No worries though. I'll just fix that.\n",
    "\n",
    "string[2]=\"L\"\n",
    "\"\"\"\n",
    "\n",
    "# This will not work. Strings are immutable\n",
    "\n",
    "string = \"I Bove python\"\n",
    "\n",
    "#string[2] = \"L\"\n",
    "\n",
    "# Instead use a method to replace the character\n",
    "\n",
    "string = string.replace(\"B\", \"l\")\n",
    "\n",
    "print(string)\n",
    "\n",
    "\n"
   ]
  }
 ],
 "metadata": {
  "kernelspec": {
   "display_name": "Python 3",
   "language": "python",
   "name": "python3"
  },
  "language_info": {
   "codemirror_mode": {
    "name": "ipython",
    "version": 3
   },
   "file_extension": ".py",
   "mimetype": "text/x-python",
   "name": "python",
   "nbconvert_exporter": "python",
   "pygments_lexer": "ipython3",
   "version": "3.11.4"
  },
  "orig_nbformat": 4
 },
 "nbformat": 4,
 "nbformat_minor": 2
}
